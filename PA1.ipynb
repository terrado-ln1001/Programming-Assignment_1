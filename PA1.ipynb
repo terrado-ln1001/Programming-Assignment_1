{
 "cells": [
  {
   "cell_type": "code",
   "execution_count": 1,
   "id": "43657cae-3603-4b55-a2c7-5833d0b1e843",
   "metadata": {},
   "outputs": [],
   "source": [
    "#Alphabet Soup Problem\n",
    "\n",
    "def alphabet_soup(text):\n",
    "    return ''.join(sorted(text))"
   ]
  },
  {
   "cell_type": "code",
   "execution_count": 2,
   "id": "d1d9173a-a10b-45eb-a14d-7cf5822699bf",
   "metadata": {},
   "outputs": [
    {
     "name": "stdout",
     "output_type": "stream",
     "text": [
      "ehllo\n"
     ]
    }
   ],
   "source": [
    "print(alphabet_soup(\"hello\"))"
   ]
  },
  {
   "cell_type": "code",
   "execution_count": 3,
   "id": "bb10902e-cae4-4467-a5fe-a2b035499ae1",
   "metadata": {},
   "outputs": [
    {
     "name": "stdout",
     "output_type": "stream",
     "text": [
      "acehkr\n"
     ]
    }
   ],
   "source": [
    "print(alphabet_soup(\"hacker\"))"
   ]
  },
  {
   "cell_type": "code",
   "execution_count": 4,
   "id": "8e31d488-55ae-4e8e-965c-b42c1be8b3ce",
   "metadata": {},
   "outputs": [],
   "source": [
    "#Emoticon Problem\n",
    "\n",
    "def str(emoticons):\n",
    "    emoticons = emoticons.replace(\"smile\", \":)\")\n",
    "    emoticons = emoticons.replace(\"grin\", \":D\")\n",
    "    emoticons = emoticons.replace(\"sad\", \":(\")\n",
    "    emoticons = emoticons.replace(\"mad\", \">:(\")\n",
    "    return emoticons"
   ]
  },
  {
   "cell_type": "code",
   "execution_count": 5,
   "id": "5b189cac-5a71-4826-9572-9834046c543d",
   "metadata": {},
   "outputs": [
    {
     "name": "stdout",
     "output_type": "stream",
     "text": [
      "Make me :)\n"
     ]
    }
   ],
   "source": [
    "print (str(\"Make me smile\"))"
   ]
  },
  {
   "cell_type": "code",
   "execution_count": 6,
   "id": "ccf2abb6-d26b-4061-a286-e1a52a9b225f",
   "metadata": {},
   "outputs": [
    {
     "name": "stdout",
     "output_type": "stream",
     "text": [
      "I am >:(\n"
     ]
    }
   ],
   "source": [
    "print (str(\"I am mad\"))"
   ]
  },
  {
   "cell_type": "code",
   "execution_count": 7,
   "id": "ad2c2c50-944e-44b8-8403-da88d98e10a5",
   "metadata": {},
   "outputs": [
    {
     "name": "stdout",
     "output_type": "stream",
     "text": [
      "First: 1\n",
      "Middle: [2, 3, 4, 5]\n",
      "Last: 6\n"
     ]
    }
   ],
   "source": [
    "#Unpacking List Problem\n",
    "\n",
    "writeyourcodehere = [1, 2, 3, 4, 5, 6]\n",
    "\n",
    "first, *middle, last = writeyourcodehere\n",
    "\n",
    "print(\"First:\", first)\n",
    "print(\"Middle:\", middle)\n",
    "print(\"Last:\", last)"
   ]
  },
  {
   "cell_type": "code",
   "execution_count": null,
   "id": "e6bdc52e-f906-444a-9ec3-16d82d27d75e",
   "metadata": {},
   "outputs": [],
   "source": []
  }
 ],
 "metadata": {
  "kernelspec": {
   "display_name": "Python 3 (ipykernel)",
   "language": "python",
   "name": "python3"
  },
  "language_info": {
   "codemirror_mode": {
    "name": "ipython",
    "version": 3
   },
   "file_extension": ".py",
   "mimetype": "text/x-python",
   "name": "python",
   "nbconvert_exporter": "python",
   "pygments_lexer": "ipython3",
   "version": "3.13.5"
  }
 },
 "nbformat": 4,
 "nbformat_minor": 5
}
